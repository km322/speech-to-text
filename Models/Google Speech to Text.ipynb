{
 "cells": [
  {
   "cell_type": "code",
   "execution_count": 2,
   "id": "6c543b97-87f5-4488-a258-71b6c03e126f",
   "metadata": {},
   "outputs": [],
   "source": [
    "#!pip install --upgrade google-cloud-speech\n",
    "import os\n",
    "from google.cloud import speech"
   ]
  },
  {
   "cell_type": "code",
   "execution_count": 16,
   "id": "ea1c1e5d-2b99-4762-95ec-cf428fcb0dff",
   "metadata": {},
   "outputs": [
    {
     "name": "stdout",
     "output_type": "stream",
     "text": [
      "bed sheet and the balloon and that she sees a teddy pig a balloon sees the cloud that is but that pleasepig 1010 C pig pig pig 21 time to read dataWith what it is time to watch TV you this book is New World this book is old.\n"
     ]
    }
   ],
   "source": [
    "os.environ['GOOGLE_APPLICATION_CREDENTIALS'] = 'credentials.json'\n",
    "speech_client = speech.SpeechClient()\n",
    "\n",
    "# Example 3: Transcribing a long media file\n",
    "media_uri = 'gs://speech-to-text-files322/Peg The Chick And The Balloon - Student05(05-19-21-59-16).wav'\n",
    "long_audi_wav = speech.RecognitionAudio(uri=media_uri)\n",
    "\n",
    "config_wav = speech.RecognitionConfig(\n",
    "    sample_rate_hertz=48000,\n",
    "    enable_automatic_punctuation=True,\n",
    "    language_code='en-IN',\n",
    ")\n",
    "\n",
    "config_wav_enhanced = speech.RecognitionConfig(\n",
    "    sample_rate_hertz=48000,\n",
    "    enable_automatic_punctuation=True,\n",
    "    language_code='en-IN',\n",
    "    use_enhanced=True,\n",
    "    model='video'\n",
    ")\n",
    "\n",
    "operation = speech_client.long_running_recognize(\n",
    "    config=config_wav,\n",
    "    audio=long_audi_wav\n",
    ")\n",
    "response = operation.result(timeout=90)\n",
    "\n",
    "string = \"\"\n",
    "for result in response.results:\n",
    "    string = string + result.alternatives[0].transcript\n",
    "print(string)"
   ]
  },
  {
   "cell_type": "code",
   "execution_count": null,
   "id": "dccd7c83-360e-4e52-a413-f4cac7dc6a31",
   "metadata": {},
   "outputs": [],
   "source": []
  }
 ],
 "metadata": {
  "kernelspec": {
   "display_name": "env1kernel",
   "language": "python",
   "name": "env1kernel"
  },
  "language_info": {
   "codemirror_mode": {
    "name": "ipython",
    "version": 3
   },
   "file_extension": ".py",
   "mimetype": "text/x-python",
   "name": "python",
   "nbconvert_exporter": "python",
   "pygments_lexer": "ipython3",
   "version": "3.7.12"
  }
 },
 "nbformat": 4,
 "nbformat_minor": 5
}
