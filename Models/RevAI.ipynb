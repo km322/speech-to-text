{
 "cells": [
  {
   "cell_type": "code",
   "execution_count": 18,
   "id": "19852f06-9d04-4148-a5f9-2a8fead0262b",
   "metadata": {},
   "outputs": [
    {
     "name": "stdout",
     "output_type": "stream",
     "text": [
      "JobStatus.IN_PROGRESS\n",
      "JobStatus.IN_PROGRESS\n",
      "JobStatus.IN_PROGRESS\n",
      "JobStatus.IN_PROGRESS\n",
      "JobStatus.IN_PROGRESS\n",
      "JobStatus.IN_PROGRESS\n",
      "JobStatus.IN_PROGRESS\n",
      "JobStatus.IN_PROGRESS\n",
      "JobStatus.IN_PROGRESS\n",
      "JobStatus.IN_PROGRESS\n",
      "JobStatus.IN_PROGRESS\n",
      "JobStatus.IN_PROGRESS\n",
      "JobStatus.IN_PROGRESS\n",
      "JobStatus.IN_PROGRESS\n",
      "JobStatus.IN_PROGRESS\n",
      "JobStatus.IN_PROGRESS\n",
      "JobStatus.IN_PROGRESS\n",
      "JobStatus.IN_PROGRESS\n",
      "JobStatus.IN_PROGRESS\n",
      "JobStatus.IN_PROGRESS\n",
      "JobStatus.IN_PROGRESS\n",
      "JobStatus.IN_PROGRESS\n",
      "JobStatus.IN_PROGRESS\n",
      "JobStatus.IN_PROGRESS\n",
      "JobStatus.IN_PROGRESS\n",
      "JobStatus.IN_PROGRESS\n",
      "JobStatus.IN_PROGRESS\n",
      "JobStatus.IN_PROGRESS\n",
      "JobStatus.IN_PROGRESS\n",
      "JobStatus.IN_PROGRESS\n",
      "JobStatus.IN_PROGRESS\n",
      "JobStatus.IN_PROGRESS\n",
      "JobStatus.IN_PROGRESS\n",
      "JobStatus.IN_PROGRESS\n",
      "JobStatus.IN_PROGRESS\n",
      "JobStatus.IN_PROGRESS\n",
      "JobStatus.IN_PROGRESS\n",
      "JobStatus.IN_PROGRESS\n",
      "JobStatus.IN_PROGRESS\n",
      "JobStatus.IN_PROGRESS\n",
      "JobStatus.IN_PROGRESS\n",
      "JobStatus.IN_PROGRESS\n",
      "JobStatus.IN_PROGRESS\n",
      "JobStatus.IN_PROGRESS\n",
      "JobStatus.IN_PROGRESS\n",
      "JobStatus.IN_PROGRESS\n",
      "JobStatus.IN_PROGRESS\n",
      "JobStatus.IN_PROGRESS\n",
      "JobStatus.IN_PROGRESS\n",
      "JobStatus.IN_PROGRESS\n",
      "JobStatus.IN_PROGRESS\n",
      "JobStatus.IN_PROGRESS\n",
      "JobStatus.IN_PROGRESS\n",
      "JobStatus.IN_PROGRESS\n",
      "JobStatus.IN_PROGRESS\n",
      "JobStatus.IN_PROGRESS\n",
      "JobStatus.IN_PROGRESS\n",
      "JobStatus.IN_PROGRESS\n",
      "JobStatus.IN_PROGRESS\n",
      "JobStatus.IN_PROGRESS\n",
      "JobStatus.IN_PROGRESS\n",
      "JobStatus.IN_PROGRESS\n",
      "JobStatus.IN_PROGRESS\n",
      "JobStatus.IN_PROGRESS\n",
      "JobStatus.IN_PROGRESS\n",
      "JobStatus.IN_PROGRESS\n",
      "JobStatus.IN_PROGRESS\n",
      "JobStatus.IN_PROGRESS\n",
      "JobStatus.IN_PROGRESS\n",
      "JobStatus.IN_PROGRESS\n",
      "JobStatus.IN_PROGRESS\n",
      "JobStatus.IN_PROGRESS\n",
      "JobStatus.IN_PROGRESS\n",
      "JobStatus.IN_PROGRESS\n",
      "JobStatus.IN_PROGRESS\n",
      "JobStatus.IN_PROGRESS\n",
      "JobStatus.IN_PROGRESS\n",
      "JobStatus.IN_PROGRESS\n",
      "JobStatus.IN_PROGRESS\n",
      "JobStatus.IN_PROGRESS\n",
      "JobStatus.IN_PROGRESS\n",
      "JobStatus.IN_PROGRESS\n",
      "JobStatus.IN_PROGRESS\n",
      "JobStatus.IN_PROGRESS\n",
      "JobStatus.IN_PROGRESS\n",
      "JobStatus.IN_PROGRESS\n",
      "JobStatus.IN_PROGRESS\n",
      "JobStatus.TRANSCRIBED\n"
     ]
    }
   ],
   "source": [
    "#!pip install rev_ai\n",
    "from rev_ai import apiclient\n",
    "\n",
    "token = \"hidden"\n",
    "filePath = \"Peg The Chick And The Balloon - Teacher.wav\"\n",
    "\n",
    "# create your client\n",
    "client = apiclient.RevAiAPIClient(token)\n",
    "\n",
    "# send a local file\n",
    "job = client.submit_job_local_file(filePath)\n",
    "\n",
    "# check job status\n",
    "job_details = client.get_job_details(job.id)\n",
    "while(str(job_details.status) != 'JobStatus.TRANSCRIBED'):\n",
    "      job_details = client.get_job_details(job.id)\n",
    "      print(job_details.status)\n",
    "\n",
    "\n",
    "# retrieve transcript as text\n",
    "transcript_text = client.get_transcript_text(job.id)\n"
   ]
  },
  {
   "cell_type": "code",
   "execution_count": 19,
   "id": "9f758d09-4f0f-49c2-a2bf-fe833e0ac1ec",
   "metadata": {},
   "outputs": [
    {
     "name": "stdout",
     "output_type": "stream",
     "text": [
      "Speaker 1    00:00:01    P the chick and the balloon P the chick and the balloon P the chick sees a string P sees a balloon P C be sees the cloud, be sees the butterflies, be sees the birds bag, sees the trees, pop bang, peg sees Ben. He Ben he sees bag Ben. He GA's GA's bag Horay. I can read P the chick and the balloon. \n",
      "\n"
     ]
    }
   ],
   "source": [
    "print(transcript_text)"
   ]
  },
  {
   "cell_type": "code",
   "execution_count": null,
   "id": "68711203-be46-4acd-9c44-ba42f0881cfd",
   "metadata": {},
   "outputs": [],
   "source": []
  }
 ],
 "metadata": {
  "kernelspec": {
   "display_name": "env1kernel",
   "language": "python",
   "name": "env1kernel"
  },
  "language_info": {
   "codemirror_mode": {
    "name": "ipython",
    "version": 3
   },
   "file_extension": ".py",
   "mimetype": "text/x-python",
   "name": "python",
   "nbconvert_exporter": "python",
   "pygments_lexer": "ipython3",
   "version": "3.7.12"
  }
 },
 "nbformat": 4,
 "nbformat_minor": 5
}
