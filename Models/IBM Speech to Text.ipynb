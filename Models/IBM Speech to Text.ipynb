{
 "cells": [
  {
   "cell_type": "code",
   "execution_count": 12,
   "id": "3bed7a0e-9e4b-40f4-81a6-5fbf3fb9c18f",
   "metadata": {},
   "outputs": [
    {
     "name": "stdout",
     "output_type": "stream",
     "text": [
      "Requirement already satisfied: ibm_watson in /Users/ketan/miniconda3/envs/enviroment1/lib/python3.7/site-packages (6.0.0)\n",
      "Requirement already satisfied: ibm-cloud-sdk-core==3.*,>=3.3.6 in /Users/ketan/miniconda3/envs/enviroment1/lib/python3.7/site-packages (from ibm_watson) (3.15.2)\n",
      "Requirement already satisfied: python-dateutil>=2.5.3 in /Users/ketan/miniconda3/envs/enviroment1/lib/python3.7/site-packages (from ibm_watson) (2.8.2)\n",
      "Collecting websocket-client==1.1.0\n",
      "  Using cached websocket_client-1.1.0-py2.py3-none-any.whl (68 kB)\n",
      "Requirement already satisfied: requests<3.0,>=2.0 in /Users/ketan/miniconda3/envs/enviroment1/lib/python3.7/site-packages (from ibm_watson) (2.27.1)\n",
      "Requirement already satisfied: urllib3<2.0.0,>=1.26.0 in /Users/ketan/miniconda3/envs/enviroment1/lib/python3.7/site-packages (from ibm-cloud-sdk-core==3.*,>=3.3.6->ibm_watson) (1.26.9)\n",
      "Requirement already satisfied: PyJWT<3.0.0,>=2.4.0 in /Users/ketan/miniconda3/envs/enviroment1/lib/python3.7/site-packages (from ibm-cloud-sdk-core==3.*,>=3.3.6->ibm_watson) (2.4.0)\n",
      "Requirement already satisfied: six>=1.5 in /Users/ketan/miniconda3/envs/enviroment1/lib/python3.7/site-packages (from python-dateutil>=2.5.3->ibm_watson) (1.16.0)\n",
      "Requirement already satisfied: certifi>=2017.4.17 in /Users/ketan/miniconda3/envs/enviroment1/lib/python3.7/site-packages (from requests<3.0,>=2.0->ibm_watson) (2022.5.18.1)\n",
      "Requirement already satisfied: charset-normalizer~=2.0.0 in /Users/ketan/miniconda3/envs/enviroment1/lib/python3.7/site-packages (from requests<3.0,>=2.0->ibm_watson) (2.0.12)\n",
      "Requirement already satisfied: idna<4,>=2.5 in /Users/ketan/miniconda3/envs/enviroment1/lib/python3.7/site-packages (from requests<3.0,>=2.0->ibm_watson) (3.3)\n",
      "Installing collected packages: websocket-client\n",
      "  Attempting uninstall: websocket-client\n",
      "    Found existing installation: websocket-client 0.59.0\n",
      "    Uninstalling websocket-client-0.59.0:\n",
      "      Successfully uninstalled websocket-client-0.59.0\n",
      "\u001b[31mERROR: pip's dependency resolver does not currently take into account all the packages that are installed. This behaviour is the source of the following dependency conflicts.\n",
      "rev-ai 2.17.0 requires websocket-client<1.0.0,>=0.56.0, but you have websocket-client 1.1.0 which is incompatible.\u001b[0m\u001b[31m\n",
      "\u001b[0mSuccessfully installed websocket-client-1.1.0\n"
     ]
    }
   ],
   "source": [
    "#!pip install ibm_watson\n",
    "from ibm_watson import SpeechToTextV1\n",
    "from ibm_watson.websocket import RecognizeCallback, AudioSource \n",
    "from ibm_cloud_sdk_core.authenticators import IAMAuthenticator"
   ]
  },
  {
   "cell_type": "code",
   "execution_count": 32,
   "id": "98bb1ebe-37cc-41e3-8d7e-783ae2f2f726",
   "metadata": {},
   "outputs": [],
   "source": [
    "authenticator = IAMAuthenticator(apikey)\n",
    "stt = SpeechToTextV1(authenticator=authenticator)\n",
    "stt.set_service_url(url)"
   ]
  },
  {
   "cell_type": "code",
   "execution_count": 43,
   "id": "12a77473-2a55-471b-9de0-7ac8c6962aab",
   "metadata": {},
   "outputs": [],
   "source": [
    "with open('Peg The Chick And The Balloon - Student05(05-19-21-59-16).wav', 'rb') as f:\n",
    "    res = stt.recognize(audio=f, content_type='audio/wav', model='en-US_Telephony').get_result()"
   ]
  },
  {
   "cell_type": "code",
   "execution_count": 44,
   "id": "61705579-efb4-4446-8766-89f60e2c4cc8",
   "metadata": {},
   "outputs": [
    {
     "name": "stdout",
     "output_type": "stream",
     "text": [
      "and p a okay thank you yes loud fake please that bye back that's nice is that much perfect that place mmhm yes okay okay mmhm yes who knows yes yes yes okay time it's this time too read yes they it is date time nice it is nice time vic why it is time to watch t v you this book yes new why this book is on yes \n"
     ]
    }
   ],
   "source": [
    "string = \"\"\n",
    "for i in range(len(res['results'])):\n",
    "    string = string +res['results'][i]['alternatives'][0]['transcript']\n",
    "print(string)"
   ]
  },
  {
   "cell_type": "code",
   "execution_count": null,
   "id": "05d9bbd2-811f-45c0-b4a6-05d92f2938ba",
   "metadata": {},
   "outputs": [],
   "source": []
  }
 ],
 "metadata": {
  "kernelspec": {
   "display_name": "env1kernel",
   "language": "python",
   "name": "env1kernel"
  },
  "language_info": {
   "codemirror_mode": {
    "name": "ipython",
    "version": 3
   },
   "file_extension": ".py",
   "mimetype": "text/x-python",
   "name": "python",
   "nbconvert_exporter": "python",
   "pygments_lexer": "ipython3",
   "version": "3.7.12"
  }
 },
 "nbformat": 4,
 "nbformat_minor": 5
}
